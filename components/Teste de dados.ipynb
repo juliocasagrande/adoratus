{
 "cells": [
  {
   "cell_type": "code",
   "execution_count": 2,
   "metadata": {},
   "outputs": [],
   "source": [
    "import pandas as pd\n",
    "\n",
    "df = pd.read_excel(r'C:\\Users\\Cliente\\Desktop\\Relatórios manutenção\\Dados.xlsx', sheet_name='Input')\n",
    "df.drop(columns=[1], inplace=True)"
   ]
  },
  {
   "cell_type": "code",
   "execution_count": 4,
   "metadata": {},
   "outputs": [
    {
     "data": {
      "text/plain": [
       "'99.99'"
      ]
     },
     "execution_count": 4,
     "metadata": {},
     "output_type": "execute_result"
    }
   ],
   "source": [
    "df_filtrado = df[(df['Usina'] == \"UHE Jupiá\") & (df['KPI'] == 'Real YTD')]\n",
    "valor = df_filtrado[\"Notas Manutenção\"].mean().round(2)\n",
    "str(valor)"
   ]
  }
 ],
 "metadata": {
  "kernelspec": {
   "display_name": "Python 3",
   "language": "python",
   "name": "python3"
  },
  "language_info": {
   "codemirror_mode": {
    "name": "ipython",
    "version": 3
   },
   "file_extension": ".py",
   "mimetype": "text/x-python",
   "name": "python",
   "nbconvert_exporter": "python",
   "pygments_lexer": "ipython3",
   "version": "3.10.10"
  },
  "orig_nbformat": 4,
  "vscode": {
   "interpreter": {
    "hash": "3195fe325932e0ccfb5fce6e82e587e718e8610181092ffcef74d5a7cb58fda0"
   }
  }
 },
 "nbformat": 4,
 "nbformat_minor": 2
}
